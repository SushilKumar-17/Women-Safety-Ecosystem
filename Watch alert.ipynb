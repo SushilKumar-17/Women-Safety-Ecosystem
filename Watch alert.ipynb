{
 "cells": [
  {
   "cell_type": "code",
   "execution_count": 2,
   "id": "088546f7-3ee4-4d18-aff1-891a7003e900",
   "metadata": {},
   "outputs": [
    {
     "name": "stdout",
     "output_type": "stream",
     "text": [
      "Requirement already satisfied: colorama in c:\\users\\ybadr\\appdata\\roaming\\python\\python312\\site-packages (0.4.6)\n"
     ]
    }
   ],
   "source": [
    "!pip install colorama"
   ]
  },
  {
   "cell_type": "code",
   "execution_count": 1,
   "id": "79bb0f5a-a8d8-4ab9-b513-47764c32c443",
   "metadata": {},
   "outputs": [
    {
     "data": {
      "text/plain": [
       "1"
      ]
     },
     "execution_count": 1,
     "metadata": {},
     "output_type": "execute_result"
    }
   ],
   "source": [
    "import random\n",
    "import datetime\n",
    "import time\n",
    "from colorama import Fore, Back, Style, init\n",
    "\n",
    "init(autoreset=True)  # Initialize colorama\n",
    "import os\n",
    "os.system('color')"
   ]
  },
  {
   "cell_type": "code",
   "execution_count": 2,
   "id": "bfdb4a4a-a80f-4899-9c36-f72b80c3acc7",
   "metadata": {},
   "outputs": [],
   "source": [
    "class SmartWatchMonitor:\n",
    "    def __init__(self):\n",
    "        self.normal_heart_rate_range = (60, 100)\n",
    "        self.areas = [\n",
    "            {\"name\": \"Dark Alley\", \"risk\": \"High\"},\n",
    "            {\"name\": \"Isolated Park\", \"risk\": \"High\"},\n",
    "            {\"name\": \"Deserted Parking Lot\", \"risk\": \"High\"},\n",
    "            {\"name\": \"City Center\", \"risk\": \"Low\"},\n",
    "            {\"name\": \"Residential Area\", \"risk\": \"Low\"},\n",
    "            {\"name\": \"Shopping Mall\", \"risk\": \"Low\"},\n",
    "        ]\n",
    "\n",
    "    def generate_heart_rate(self):\n",
    "        if random.random() < 0.2:  # 20% chance of abnormal heart rate\n",
    "            return random.choice([\n",
    "                random.randint(40, 59),  # Low heart rate\n",
    "                random.randint(101, 130)  # High heart rate\n",
    "            ])\n",
    "        return random.randint(self.normal_heart_rate_range[0], self.normal_heart_rate_range[1])\n",
    "\n",
    "    def generate_accelerometer_data(self):\n",
    "        if random.random() < 0.2:  # 20% chance of abnormal accelerometer data\n",
    "            return (random.uniform(-2, 2), random.uniform(-2, 2), random.uniform(-2, 2))\n",
    "        return (random.uniform(-1, 1), random.uniform(-1, 1), random.uniform(-1, 1))\n",
    "\n",
    "    def detect_irregular_pattern(self, heart_rates, acc_data):\n",
    "        max_hr = max(heart_rates)\n",
    "        min_hr = min(heart_rates)\n",
    "        max_acc = max(max(acc) for acc in acc_data)\n",
    "\n",
    "        if max_hr > 120 and random.random() < 0.7:\n",
    "            return \"Panic Attack\"\n",
    "        if max_hr > 100 and max_acc > 1.5 and random.random() < 0.7:\n",
    "            return \"Running\"\n",
    "        if min_hr < 50 and max_acc < 0.2 and random.random() < 0.7:\n",
    "            return \"Collapse\"\n",
    "        if max_hr > 110 and min_hr < 55 and random.random() < 0.7:\n",
    "            return \"Potential Drugging\"\n",
    "        return None\n",
    "\n",
    "    def generate_alert(self, pattern, location, risk_level):\n",
    "        current_time = datetime.datetime.now()\n",
    "        \n",
    "        alert_color = Fore.RED if risk_level == \"High\" else Fore.YELLOW\n",
    "        \n",
    "        print(\"\\n\" + Style.BRIGHT + Back.WHITE + Fore.BLACK + \"=\" * 60)\n",
    "        print(alert_color + Style.BRIGHT + \"ALERT GENERATED\")\n",
    "        print(Style.BRIGHT + Back.WHITE + Fore.BLACK + \"=\" * 60)\n",
    "        print(f\"{Fore.CYAN}Irregular pattern detected: {Style.BRIGHT}{pattern}\")\n",
    "        print(f\"{Fore.BLUE}Date: {current_time.strftime('%Y-%m-%d')}\")\n",
    "        print(f\"{Fore.BLUE}Time: {current_time.strftime('%I:%M:%S %p')}\")\n",
    "        print(f\"{Fore.MAGENTA}Location: {location}\")\n",
    "        print(f\"{alert_color}Risk Level: {risk_level}\")\n",
    "        \n",
    "        if risk_level == \"High\":\n",
    "            print(f\"{Fore.RED}WARNING: This is a high-risk area!\")\n",
    "            print(f\"{Fore.RED}Emergency services have been notified.\")\n",
    "        else:\n",
    "            print(f\"{Fore.YELLOW}CAUTION: Stay alert in this area.\")\n",
    "            print(f\"{Fore.YELLOW}Emergency contact has been notified.\")\n",
    "        \n",
    "        print(Style.BRIGHT + Back.WHITE + Fore.BLACK + \"=\" * 60 + \"\\n\")"
   ]
  },
  {
   "cell_type": "code",
   "execution_count": 6,
   "id": "fb8c6fc5-0f53-4660-9b48-713f9b0666fe",
   "metadata": {},
   "outputs": [
    {
     "name": "stdout",
     "output_type": "stream",
     "text": [
      "Simulating smartwatch monitoring...\n",
      "Timestamp: 1s, Heart Rate: 54 bpm, Accelerometer: (-1.3613557625533526, -0.12681938943290438, -1.1788260712668666)\n",
      "Timestamp: 2s, Heart Rate: 78 bpm, Accelerometer: (0.8671548574860612, 0.28116687433501064, -0.0008655211575416821)\n",
      "Timestamp: 3s, Heart Rate: 80 bpm, Accelerometer: (0.0007817315103613165, 0.16406947472942446, -0.696630339276965)\n",
      "Timestamp: 4s, Heart Rate: 92 bpm, Accelerometer: (0.5371286771923709, -0.5456904210991376, -0.6739217438874843)\n",
      "Timestamp: 5s, Heart Rate: 91 bpm, Accelerometer: (-0.13938636608562915, -0.6075222000023075, 0.25841965188284877)\n",
      "Timestamp: 6s, Heart Rate: 88 bpm, Accelerometer: (-0.37323186327134894, -0.3231136762071445, 0.4849417129052678)\n",
      "Timestamp: 7s, Heart Rate: 45 bpm, Accelerometer: (0.5616775741213211, -0.8151921527618164, 0.8825602344770713)\n",
      "Timestamp: 8s, Heart Rate: 87 bpm, Accelerometer: (-0.8078706464812104, -0.8949371288661168, -0.5382610639031333)\n",
      "Timestamp: 9s, Heart Rate: 63 bpm, Accelerometer: (0.8123700750098493, 0.9496125272414566, 0.19952028686123535)\n",
      "Timestamp: 10s, Heart Rate: 78 bpm, Accelerometer: (-0.46433523107838526, 0.9276335288347526, 0.5046572190688106)\n",
      "Timestamp: 11s, Heart Rate: 82 bpm, Accelerometer: (-0.22118755424335546, 0.6956397997564014, -0.19761153531144315)\n",
      "Timestamp: 12s, Heart Rate: 47 bpm, Accelerometer: (0.0021646070873306833, 0.5879648627882412, 0.033755604189499966)\n",
      "Timestamp: 13s, Heart Rate: 45 bpm, Accelerometer: (-0.011254602532666524, -0.6074250593032195, -0.9723042368897359)\n",
      "Timestamp: 14s, Heart Rate: 95 bpm, Accelerometer: (0.08930349607257737, -0.940285821533474, 0.3539787498648126)\n",
      "Timestamp: 15s, Heart Rate: 65 bpm, Accelerometer: (-0.5216473316758898, -0.35841952485108064, 0.5539935617217302)\n",
      "Timestamp: 16s, Heart Rate: 72 bpm, Accelerometer: (-0.5142379680368538, 0.7683856914815888, -0.25110264794084736)\n",
      "Timestamp: 17s, Heart Rate: 52 bpm, Accelerometer: (-0.8755357016293044, -0.16579854860608978, 0.8140314671110156)\n",
      "Timestamp: 18s, Heart Rate: 101 bpm, Accelerometer: (0.5402574794762771, 0.20257393267100676, -0.3014405470689163)\n",
      "Timestamp: 19s, Heart Rate: 101 bpm, Accelerometer: (-0.6080009245027751, -0.8610772270604532, -0.7943372504558284)\n",
      "Timestamp: 20s, Heart Rate: 71 bpm, Accelerometer: (-0.5647785711260924, -0.9187394679230287, -0.5844384660546513)\n",
      "Timestamp: 21s, Heart Rate: 83 bpm, Accelerometer: (0.497939624967338, 0.9506628704139581, 0.11685423110869642)\n",
      "Timestamp: 22s, Heart Rate: 69 bpm, Accelerometer: (0.28072726495979206, 0.8534381214851408, -0.31588478787308105)\n",
      "Timestamp: 23s, Heart Rate: 62 bpm, Accelerometer: (0.8457966639946264, -0.826932789013612, 0.042450219279835055)\n",
      "Timestamp: 24s, Heart Rate: 92 bpm, Accelerometer: (0.4164976389501134, 0.1323544046444114, 0.1214326535318968)\n",
      "Timestamp: 25s, Heart Rate: 92 bpm, Accelerometer: (-0.7770276065351676, -0.824638318820679, 0.30543905144098527)\n",
      "Timestamp: 26s, Heart Rate: 107 bpm, Accelerometer: (-0.6015744022701548, -0.12140375018824656, -0.10053339971731878)\n",
      "Timestamp: 27s, Heart Rate: 71 bpm, Accelerometer: (0.8850922309715981, 0.3488497576844516, 0.5162761860884284)\n",
      "Timestamp: 28s, Heart Rate: 118 bpm, Accelerometer: (0.8124158385588638, -0.030142894955162758, 0.36197518567490494)\n",
      "Timestamp: 29s, Heart Rate: 80 bpm, Accelerometer: (-0.9894658917292796, 0.039234707203250174, -0.6684094270393564)\n",
      "Timestamp: 30s, Heart Rate: 73 bpm, Accelerometer: (-0.6384975591563287, 0.9232063545758458, -0.16062265293176803)\n",
      "Timestamp: 31s, Heart Rate: 86 bpm, Accelerometer: (0.14784525807194093, -0.6936402721158412, 1.9206112616716413)\n",
      "Timestamp: 32s, Heart Rate: 81 bpm, Accelerometer: (0.13727381786162152, -0.770311648062632, -0.309368448188279)\n",
      "\n",
      "============================================================\n",
      "ALERT GENERATED\n",
      "============================================================\n",
      "Irregular pattern detected: Running\n",
      "Date: 2024-09-23\n",
      "Time: 03:36:33 AM\n",
      "Location: Dark Alley\n",
      "Risk Level: High\n",
      "WARNING: This is a high-risk area!\n",
      "Emergency services have been notified.\n",
      "============================================================\n",
      "\n"
     ]
    }
   ],
   "source": [
    "def simulate_smartwatch_monitoring():\n",
    "    monitor = SmartWatchMonitor()\n",
    "    heart_rates = []\n",
    "    acc_data = []\n",
    "    \n",
    "    print(Fore.CYAN + Style.BRIGHT + \"Simulating smartwatch monitoring...\")\n",
    "    \n",
    "    for i in range(60):\n",
    "        heart_rate = monitor.generate_heart_rate()\n",
    "        accelerometer = monitor.generate_accelerometer_data()\n",
    "        heart_rates.append(heart_rate)\n",
    "        acc_data.append(accelerometer)\n",
    "        \n",
    "        print(f\"{Fore.GREEN}Timestamp: {i+1}s, \"\n",
    "              f\"{Fore.YELLOW}Heart Rate: {heart_rate} bpm, \"\n",
    "              f\"{Fore.BLUE}Accelerometer: {accelerometer}\")\n",
    "        \n",
    "        if len(heart_rates) >= 5:  # Check patterns every 5 seconds\n",
    "            pattern = monitor.detect_irregular_pattern(heart_rates[-5:], acc_data[-5:])\n",
    "            if pattern:\n",
    "                current_area = random.choice(monitor.areas)\n",
    "                monitor.generate_alert(pattern, current_area[\"name\"], current_area[\"risk\"])\n",
    "                break\n",
    "        \n",
    "        time.sleep(0.1)\n",
    "    \n",
    "    if not pattern:\n",
    "        print(\"\\n\" + Fore.GREEN + \"Monitoring complete. No irregular patterns detected.\")\n",
    "\n",
    "if __name__ == \"__main__\":\n",
    "    simulate_smartwatch_monitoring()"
   ]
  },
  {
   "cell_type": "code",
   "execution_count": null,
   "id": "14ad90d5-b456-475d-afee-4e25db1cdef5",
   "metadata": {},
   "outputs": [],
   "source": []
  },
  {
   "cell_type": "code",
   "execution_count": null,
   "id": "a701d190-f936-4b9f-bd6a-0e573b415635",
   "metadata": {},
   "outputs": [],
   "source": []
  }
 ],
 "metadata": {
  "kernelspec": {
   "display_name": "Python 3 (ipykernel)",
   "language": "python",
   "name": "python3"
  },
  "language_info": {
   "codemirror_mode": {
    "name": "ipython",
    "version": 3
   },
   "file_extension": ".py",
   "mimetype": "text/x-python",
   "name": "python",
   "nbconvert_exporter": "python",
   "pygments_lexer": "ipython3",
   "version": "3.12.3"
  }
 },
 "nbformat": 4,
 "nbformat_minor": 5
}
